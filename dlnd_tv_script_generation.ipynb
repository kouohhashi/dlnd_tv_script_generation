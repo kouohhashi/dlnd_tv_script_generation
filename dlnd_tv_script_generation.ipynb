{
 "cells": [
  {
   "cell_type": "markdown",
   "metadata": {
    "deletable": true,
    "editable": true
   },
   "source": [
    "# TV Script Generation\n",
    "In this project, you'll generate your own [Simpsons](https://en.wikipedia.org/wiki/The_Simpsons) TV scripts using RNNs.  You'll be using part of the [Simpsons dataset](https://www.kaggle.com/wcukierski/the-simpsons-by-the-data) of scripts from 27 seasons.  The Neural Network you'll build will generate a new TV script for a scene at [Moe's Tavern](https://simpsonswiki.com/wiki/Moe's_Tavern).\n",
    "## Get the Data\n",
    "The data is already provided for you.  You'll be using a subset of the original dataset.  It consists of only the scenes in Moe's Tavern.  This doesn't include other versions of the tavern, like \"Moe's Cavern\", \"Flaming Moe's\", \"Uncle Moe's Family Feed-Bag\", etc.."
   ]
  },
  {
   "cell_type": "code",
   "execution_count": 1,
   "metadata": {
    "collapsed": false,
    "deletable": true,
    "editable": true
   },
   "outputs": [],
   "source": [
    "\"\"\"\n",
    "DON'T MODIFY ANYTHING IN THIS CELL\n",
    "\"\"\"\n",
    "import helper\n",
    "\n",
    "data_dir = './data/simpsons/moes_tavern_lines.txt'\n",
    "text = helper.load_data(data_dir)\n",
    "# Ignore notice, since we don't use it for analysing the data\n",
    "text = text[81:]"
   ]
  },
  {
   "cell_type": "markdown",
   "metadata": {
    "deletable": true,
    "editable": true
   },
   "source": [
    "## Explore the Data\n",
    "Play around with `view_sentence_range` to view different parts of the data."
   ]
  },
  {
   "cell_type": "code",
   "execution_count": 2,
   "metadata": {
    "collapsed": false,
    "deletable": true,
    "editable": true
   },
   "outputs": [
    {
     "name": "stdout",
     "output_type": "stream",
     "text": [
      "Dataset Stats\n",
      "Roughly the number of unique words: 11492\n",
      "Number of scenes: 262\n",
      "Average number of sentences in each scene: 15.248091603053435\n",
      "Number of lines: 4257\n",
      "Average number of words in each line: 11.50434578341555\n",
      "\n",
      "The sentences 0 to 10:\n",
      "Moe_Szyslak: (INTO PHONE) Moe's Tavern. Where the elite meet to drink.\n",
      "Bart_Simpson: Eh, yeah, hello, is Mike there? Last name, Rotch.\n",
      "Moe_Szyslak: (INTO PHONE) Hold on, I'll check. (TO BARFLIES) Mike Rotch. Mike Rotch. Hey, has anybody seen Mike Rotch, lately?\n",
      "Moe_Szyslak: (INTO PHONE) Listen you little puke. One of these days I'm gonna catch you, and I'm gonna carve my name on your back with an ice pick.\n",
      "Moe_Szyslak: What's the matter Homer? You're not your normal effervescent self.\n",
      "Homer_Simpson: I got my problems, Moe. Give me another one.\n",
      "Moe_Szyslak: Homer, hey, you should not drink to forget your problems.\n",
      "Barney_Gumble: Yeah, you should only drink to enhance your social skills.\n",
      "\n",
      "\n"
     ]
    }
   ],
   "source": [
    "view_sentence_range = (0, 10)\n",
    "\n",
    "\"\"\"\n",
    "DON'T MODIFY ANYTHING IN THIS CELL\n",
    "\"\"\"\n",
    "import numpy as np\n",
    "\n",
    "print('Dataset Stats')\n",
    "print('Roughly the number of unique words: {}'.format(len({word: None for word in text.split()})))\n",
    "scenes = text.split('\\n\\n')\n",
    "print('Number of scenes: {}'.format(len(scenes)))\n",
    "sentence_count_scene = [scene.count('\\n') for scene in scenes]\n",
    "print('Average number of sentences in each scene: {}'.format(np.average(sentence_count_scene)))\n",
    "\n",
    "sentences = [sentence for scene in scenes for sentence in scene.split('\\n')]\n",
    "print('Number of lines: {}'.format(len(sentences)))\n",
    "word_count_sentence = [len(sentence.split()) for sentence in sentences]\n",
    "print('Average number of words in each line: {}'.format(np.average(word_count_sentence)))\n",
    "\n",
    "print()\n",
    "print('The sentences {} to {}:'.format(*view_sentence_range))\n",
    "print('\\n'.join(text.split('\\n')[view_sentence_range[0]:view_sentence_range[1]]))"
   ]
  },
  {
   "cell_type": "code",
   "execution_count": 3,
   "metadata": {
    "collapsed": false,
    "deletable": true,
    "editable": true
   },
   "outputs": [
    {
     "name": "stdout",
     "output_type": "stream",
     "text": [
      "text count:305189\n",
      "tmp_1 length:48974, 5:Where\n",
      "scenes count:262\n",
      "word_count_sentence:4257\n",
      "Homer_Simpson: Lousy. He just sits there all day. He'd have a great job if he didn't own the place. (CHUCKLES)\n",
      "Moe_Szyslak: (STRUGGLING WITH CORKSCREW) Crummy right-handed corkscrews! What does he sell?\n",
      "Homer_Simpson: Uh, well actually, Moe...\n",
      "HOMER_(CONT'D: I dunno.\n",
      "\n"
     ]
    }
   ],
   "source": [
    "# # play around\n",
    "# print(\"text count:{}\".format(len(text)))\n",
    "# tmp_1 = text.split()\n",
    "# print(\"tmp_1 length:{}, 5:{}\".format(len(tmp_1), tmp_1[5]))\n",
    "# print(\"scenes count:{}\".format(len(scenes)))\n",
    "# print(\"word_count_sentence:{}\".format(len(word_count_sentence)))\n",
    "# print('\\n'.join(text.split('\\n')[15:20]))"
   ]
  },
  {
   "cell_type": "markdown",
   "metadata": {
    "deletable": true,
    "editable": true
   },
   "source": [
    "## Implement Preprocessing Functions\n",
    "The first thing to do to any dataset is preprocessing.  Implement the following preprocessing functions below:\n",
    "- Lookup Table\n",
    "- Tokenize Punctuation\n",
    "\n",
    "### Lookup Table\n",
    "To create a word embedding, you first need to transform the words to ids.  In this function, create two dictionaries:\n",
    "- Dictionary to go from the words to an id, we'll call `vocab_to_int`\n",
    "- Dictionary to go from the id to word, we'll call `int_to_vocab`\n",
    "\n",
    "Return these dictionaries in the following tuple `(vocab_to_int, int_to_vocab)`"
   ]
  },
  {
   "cell_type": "code",
   "execution_count": 5,
   "metadata": {
    "collapsed": false,
    "deletable": true,
    "editable": true
   },
   "outputs": [
    {
     "name": "stdout",
     "output_type": "stream",
     "text": [
      "word_list count:8111, 19:NOBEL\n",
      "tmp_6 19:NOBEL\n",
      "tmp_5 sight:7427\n"
     ]
    }
   ],
   "source": [
    "# import string\n",
    "\n",
    "# exclude = set(string.punctuation)\n",
    "\n",
    "# tmp_3 = list(set(text.split()))\n",
    "# tmp_4 = []\n",
    "# for word in tmp_3:\n",
    "#     new_word = ''.join(ch for ch in word if ch not in exclude)\n",
    "#     tmp_4.append(new_word)\n",
    "    \n",
    "# word_list = list(set(tmp_4))\n",
    "# print(\"word_list count:{}, 19:{}\".format(len(word_list), word_list[19]))\n",
    "\n",
    "# tmp_5 = dict((c, i) for i, c in enumerate(word_list))\n",
    "# tmp_6 = dict((i, c) for i, c in enumerate(word_list))\n",
    "\n",
    "# print(\"tmp_6 19:{}\".format(tmp_6[19]))\n",
    "# print(\"tmp_5 sight:{}\".format(tmp_5['sight']))\n",
    "\n",
    "# word_list = list(set(text.split()))\n",
    "# print(\"word_list count:{}, 19:{}\".format(len(word_list), word_list[29]))\n",
    "\n",
    "# tmp_1 = word_list[29]\n",
    "# print(tmp_1)\n",
    "# tmp_2 = tmp_1.translate(string.punctuation)\n",
    "# print(string.punctuation)"
   ]
  },
  {
   "cell_type": "code",
   "execution_count": 3,
   "metadata": {
    "collapsed": false,
    "deletable": true,
    "editable": true
   },
   "outputs": [
    {
     "name": "stdout",
     "output_type": "stream",
     "text": [
      "Tests Passed\n"
     ]
    }
   ],
   "source": [
    "import numpy as np\n",
    "import problem_unittests as tests\n",
    "\n",
    "def create_lookup_tables(text):\n",
    "    \"\"\"\n",
    "    Create lookup tables for vocabulary\n",
    "    :param text: The text of tv scripts split into words\n",
    "    :return: A tuple of dicts (vocab_to_int, int_to_vocab)\n",
    "    \"\"\"\n",
    "    # TODO: Implement Function\n",
    "#     print(len(text))\n",
    "#     print(len( list( set(text) ) ))\n",
    "    \n",
    "#     return;\n",
    "    \n",
    "#     # remove punctuations\n",
    "#     tmp_word_list = list(set(text.split())) # including aaa... or bbb,\n",
    "#     tmp_list_1 = []\n",
    "#     for word in tmp_word_list:\n",
    "#         new_word = ''.join(ch for ch in word if ch not in exclude)\n",
    "#         tmp_list_1.append(new_word)\n",
    "    \n",
    "#     # get unique word list\n",
    "#     word_list = list(set(tmp_4))\n",
    "    \n",
    "#     vocab_to_int = dict((c, i) for i, c in enumerate(word_list))\n",
    "#     int_to_vocab = dict((i, c) for i, c in enumerate(word_list))\n",
    "    \n",
    "    # text is already word_list\n",
    "    vocab_to_int = dict((c, i) for i, c in enumerate( list(set(text)) ))\n",
    "    int_to_vocab = dict((i, c) for i, c in enumerate( list(set(text)) ))\n",
    "    \n",
    "    return vocab_to_int, int_to_vocab\n",
    "\n",
    "\n",
    "\"\"\"\n",
    "DON'T MODIFY ANYTHING IN THIS CELL THAT IS BELOW THIS LINE\n",
    "\"\"\"\n",
    "tests.test_create_lookup_tables(create_lookup_tables)"
   ]
  },
  {
   "cell_type": "markdown",
   "metadata": {
    "deletable": true,
    "editable": true
   },
   "source": [
    "### Tokenize Punctuation\n",
    "We'll be splitting the script into a word array using spaces as delimiters.  However, punctuations like periods and exclamation marks make it hard for the neural network to distinguish between the word \"bye\" and \"bye!\".\n",
    "\n",
    "Implement the function `token_lookup` to return a dict that will be used to tokenize symbols like \"!\" into \"||Exclamation_Mark||\".  Create a dictionary for the following symbols where the symbol is the key and value is the token:\n",
    "- Period ( . )\n",
    "- Comma ( , )\n",
    "- Quotation Mark ( \" )\n",
    "- Semicolon ( ; )\n",
    "- Exclamation mark ( ! )\n",
    "- Question mark ( ? )\n",
    "- Left Parentheses ( ( )\n",
    "- Right Parentheses ( ) )\n",
    "- Dash ( -- )\n",
    "- Return ( \\n )\n",
    "\n",
    "This dictionary will be used to token the symbols and add the delimiter (space) around it.  This separates the symbols as it's own word, making it easier for the neural network to predict on the next word. Make sure you don't use a token that could be confused as a word. Instead of using the token \"dash\", try using something like \"||dash||\"."
   ]
  },
  {
   "cell_type": "code",
   "execution_count": 4,
   "metadata": {
    "collapsed": false,
    "deletable": true,
    "editable": true
   },
   "outputs": [
    {
     "name": "stdout",
     "output_type": "stream",
     "text": [
      "Tests Passed\n"
     ]
    }
   ],
   "source": [
    "def token_lookup():\n",
    "    \"\"\"\n",
    "    Generate a dict to turn punctuation into a token.\n",
    "    :return: Tokenize dictionary where the key is the punctuation and the value is the token\n",
    "    \"\"\"\n",
    "    # TODO: Implement Function\n",
    "    \n",
    "    punctuation_to_token = {}\n",
    "    punctuation_to_token['.'] = \"||period||\"\n",
    "    punctuation_to_token[','] = \"||comma||\"\n",
    "    punctuation_to_token['\"'] = \"||quotation_mark||\"\n",
    "    punctuation_to_token[';'] = \"||semicolon||\"\n",
    "    punctuation_to_token['!'] = \"||exclamation_mark||\"\n",
    "    punctuation_to_token['?'] = \"||question_mark||\"\n",
    "    punctuation_to_token['('] = \"||left_parentheses||\"\n",
    "    punctuation_to_token[')'] = \"||right_parentheses||\"\n",
    "    punctuation_to_token['--'] = \"||dash||\"\n",
    "    punctuation_to_token['\\n'] = \"||return||\"\n",
    "    \n",
    "    return punctuation_to_token\n",
    "\n",
    "\"\"\"\n",
    "DON'T MODIFY ANYTHING IN THIS CELL THAT IS BELOW THIS LINE\n",
    "\"\"\"\n",
    "tests.test_tokenize(token_lookup)"
   ]
  },
  {
   "cell_type": "markdown",
   "metadata": {
    "deletable": true,
    "editable": true
   },
   "source": [
    "## Preprocess all the data and save it\n",
    "Running the code cell below will preprocess all the data and save it to file."
   ]
  },
  {
   "cell_type": "code",
   "execution_count": 5,
   "metadata": {
    "collapsed": false,
    "deletable": true,
    "editable": true
   },
   "outputs": [],
   "source": [
    "\"\"\"\n",
    "DON'T MODIFY ANYTHING IN THIS CELL\n",
    "\"\"\"\n",
    "# Preprocess Training, Validation, and Testing Data\n",
    "helper.preprocess_and_save_data(data_dir, token_lookup, create_lookup_tables)"
   ]
  },
  {
   "cell_type": "markdown",
   "metadata": {
    "deletable": true,
    "editable": true
   },
   "source": [
    "# Check Point\n",
    "This is your first checkpoint. If you ever decide to come back to this notebook or have to restart the notebook, you can start from here. The preprocessed data has been saved to disk."
   ]
  },
  {
   "cell_type": "code",
   "execution_count": 17,
   "metadata": {
    "collapsed": false,
    "deletable": true,
    "editable": true
   },
   "outputs": [],
   "source": [
    "\"\"\"\n",
    "DON'T MODIFY ANYTHING IN THIS CELL\n",
    "\"\"\"\n",
    "import helper\n",
    "import numpy as np\n",
    "import problem_unittests as tests\n",
    "\n",
    "int_text, vocab_to_int, int_to_vocab, token_dict = helper.load_preprocess()"
   ]
  },
  {
   "cell_type": "markdown",
   "metadata": {
    "deletable": true,
    "editable": true
   },
   "source": [
    "## Build the Neural Network\n",
    "You'll build the components necessary to build a RNN by implementing the following functions below:\n",
    "- get_inputs\n",
    "- get_init_cell\n",
    "- get_embed\n",
    "- build_rnn\n",
    "- build_nn\n",
    "- get_batches\n",
    "\n",
    "### Check the Version of TensorFlow and Access to GPU"
   ]
  },
  {
   "cell_type": "code",
   "execution_count": 18,
   "metadata": {
    "collapsed": false,
    "deletable": true,
    "editable": true
   },
   "outputs": [
    {
     "name": "stdout",
     "output_type": "stream",
     "text": [
      "TensorFlow Version: 1.0.0\n",
      "Default GPU Device: /gpu:0\n"
     ]
    }
   ],
   "source": [
    "\"\"\"\n",
    "DON'T MODIFY ANYTHING IN THIS CELL\n",
    "\"\"\"\n",
    "from distutils.version import LooseVersion\n",
    "import warnings\n",
    "import tensorflow as tf\n",
    "\n",
    "# Check TensorFlow Version\n",
    "assert LooseVersion(tf.__version__) >= LooseVersion('1.0'), 'Please use TensorFlow version 1.0 or newer'\n",
    "print('TensorFlow Version: {}'.format(tf.__version__))\n",
    "\n",
    "# Check for a GPU\n",
    "if not tf.test.gpu_device_name():\n",
    "    warnings.warn('No GPU found. Please use a GPU to train your neural network.')\n",
    "else:\n",
    "    print('Default GPU Device: {}'.format(tf.test.gpu_device_name()))"
   ]
  },
  {
   "cell_type": "markdown",
   "metadata": {
    "deletable": true,
    "editable": true
   },
   "source": [
    "### Input\n",
    "Implement the `get_inputs()` function to create TF Placeholders for the Neural Network.  It should create the following placeholders:\n",
    "- Input text placeholder named \"input\" using the [TF Placeholder](https://www.tensorflow.org/api_docs/python/tf/placeholder) `name` parameter.\n",
    "- Targets placeholder\n",
    "- Learning Rate placeholder\n",
    "\n",
    "Return the placeholders in the following the tuple `(Input, Targets, LearingRate)`"
   ]
  },
  {
   "cell_type": "code",
   "execution_count": 19,
   "metadata": {
    "collapsed": false,
    "deletable": true,
    "editable": true
   },
   "outputs": [
    {
     "name": "stdout",
     "output_type": "stream",
     "text": [
      "Tests Passed\n"
     ]
    }
   ],
   "source": [
    "def get_inputs():\n",
    "    \"\"\"\n",
    "    Create TF Placeholders for input, targets, and learning rate.\n",
    "    :return: Tuple (input, targets, learning rate)\n",
    "    \"\"\"\n",
    "    # TODO: Implement Function\n",
    "    \n",
    "    # batch size, sequence length\n",
    "    Input = tf.placeholder(tf.int32, shape=(None, None), name=\"input\")\n",
    "    Targets = tf.placeholder(tf.int32, shape=(None, None), name=\"targets\")\n",
    "    LearingRate = tf.placeholder(tf.float32, name=\"learning_rate\")\n",
    "    \n",
    "    return Input, Targets, LearingRate\n",
    "\n",
    "\n",
    "\"\"\"\n",
    "DON'T MODIFY ANYTHING IN THIS CELL THAT IS BELOW THIS LINE\n",
    "\"\"\"\n",
    "tests.test_get_inputs(get_inputs)"
   ]
  },
  {
   "cell_type": "markdown",
   "metadata": {
    "deletable": true,
    "editable": true
   },
   "source": [
    "### Build RNN Cell and Initialize\n",
    "Stack one or more [`BasicLSTMCells`](https://www.tensorflow.org/api_docs/python/tf/contrib/rnn/BasicLSTMCell) in a [`MultiRNNCell`](https://www.tensorflow.org/api_docs/python/tf/contrib/rnn/MultiRNNCell).\n",
    "- The Rnn size should be set using `rnn_size`\n",
    "- Initalize Cell State using the MultiRNNCell's [`zero_state()`](https://www.tensorflow.org/api_docs/python/tf/contrib/rnn/MultiRNNCell#zero_state) function\n",
    "    - Apply the name \"initial_state\" to the initial state using [`tf.identity()`](https://www.tensorflow.org/api_docs/python/tf/identity)\n",
    "\n",
    "Return the cell and initial state in the following tuple `(Cell, InitialState)`"
   ]
  },
  {
   "cell_type": "code",
   "execution_count": 20,
   "metadata": {
    "collapsed": false,
    "deletable": true,
    "editable": true
   },
   "outputs": [
    {
     "name": "stdout",
     "output_type": "stream",
     "text": [
      "Tests Passed\n"
     ]
    }
   ],
   "source": [
    "def get_init_cell(batch_size, rnn_size):\n",
    "    \"\"\"\n",
    "    Create an RNN Cell and initialize it.\n",
    "    :param batch_size: Size of batches\n",
    "    :param rnn_size: Size of RNNs\n",
    "    :return: Tuple (cell, initialize state)\n",
    "    \"\"\"\n",
    "    # TODO: Implement Function\n",
    "    \n",
    "    num_layers = 2 # set layer count -> 2\n",
    "    \n",
    "    lstm = tf.contrib.rnn.BasicLSTMCell(rnn_size)\n",
    "    cell = tf.contrib.rnn.MultiRNNCell([lstm] * num_layers)\n",
    "    initial_state = cell.zero_state(batch_size, tf.float32)\n",
    "    initial_state = tf.identity(initial_state, name=\"initial_state\")\n",
    "    \n",
    "    return cell, initial_state\n",
    "\n",
    "\n",
    "\"\"\"\n",
    "DON'T MODIFY ANYTHING IN THIS CELL THAT IS BELOW THIS LINE\n",
    "\"\"\"\n",
    "tests.test_get_init_cell(get_init_cell)"
   ]
  },
  {
   "cell_type": "markdown",
   "metadata": {
    "deletable": true,
    "editable": true
   },
   "source": [
    "### Word Embedding\n",
    "Apply embedding to `input_data` using TensorFlow.  Return the embedded sequence."
   ]
  },
  {
   "cell_type": "code",
   "execution_count": 21,
   "metadata": {
    "collapsed": false,
    "deletable": true,
    "editable": true
   },
   "outputs": [
    {
     "name": "stdout",
     "output_type": "stream",
     "text": [
      "Tests Passed\n"
     ]
    }
   ],
   "source": [
    "def get_embed(input_data, vocab_size, embed_dim):\n",
    "    \"\"\"\n",
    "    Create embedding for <input_data>.\n",
    "    :param input_data: TF placeholder for text input.\n",
    "    :param vocab_size: Number of words in vocabulary.\n",
    "    :param embed_dim: Number of embedding dimensions\n",
    "    :return: Embedded input.\n",
    "    \"\"\"\n",
    "    # TODO: Implement Function\n",
    "    embedding = tf.Variable(tf.random_uniform((vocab_size, embed_dim), -1, 1))\n",
    "    embed = tf.nn.embedding_lookup(embedding, input_data)\n",
    "    return embed\n",
    "\n",
    "\n",
    "\"\"\"\n",
    "DON'T MODIFY ANYTHING IN THIS CELL THAT IS BELOW THIS LINE\n",
    "\"\"\"\n",
    "tests.test_get_embed(get_embed)"
   ]
  },
  {
   "cell_type": "markdown",
   "metadata": {
    "deletable": true,
    "editable": true
   },
   "source": [
    "### Build RNN\n",
    "You created a RNN Cell in the `get_init_cell()` function.  Time to use the cell to create a RNN.\n",
    "- Build the RNN using the [`tf.nn.dynamic_rnn()`](https://www.tensorflow.org/api_docs/python/tf/nn/dynamic_rnn)\n",
    " - Apply the name \"final_state\" to the final state using [`tf.identity()`](https://www.tensorflow.org/api_docs/python/tf/identity)\n",
    "\n",
    "Return the outputs and final_state state in the following tuple `(Outputs, FinalState)` "
   ]
  },
  {
   "cell_type": "code",
   "execution_count": 22,
   "metadata": {
    "collapsed": false,
    "deletable": true,
    "editable": true
   },
   "outputs": [
    {
     "name": "stdout",
     "output_type": "stream",
     "text": [
      "Tests Passed\n"
     ]
    }
   ],
   "source": [
    "def build_rnn(cell, inputs):\n",
    "    \"\"\"\n",
    "    Create a RNN using a RNN Cell\n",
    "    :param cell: RNN Cell\n",
    "    :param inputs: Input text data\n",
    "    :return: Tuple (Outputs, Final State)\n",
    "    \"\"\"\n",
    "    # TODO: Implement Function\n",
    "    \n",
    "    # weights and biases\n",
    "    \n",
    "    Outputs, FinalState = tf.nn.dynamic_rnn(cell, inputs, dtype=tf.float32)\n",
    "    FinalState = tf.identity(FinalState, name=\"final_state\")\n",
    "    return Outputs, FinalState\n",
    "\n",
    "\n",
    "\"\"\"\n",
    "DON'T MODIFY ANYTHING IN THIS CELL THAT IS BELOW THIS LINE\n",
    "\"\"\"\n",
    "tests.test_build_rnn(build_rnn)"
   ]
  },
  {
   "cell_type": "markdown",
   "metadata": {
    "deletable": true,
    "editable": true
   },
   "source": [
    "### Build the Neural Network\n",
    "Apply the functions you implemented above to:\n",
    "- Apply embedding to `input_data` using your `get_embed(input_data, vocab_size, embed_dim)` function.\n",
    "- Build RNN using `cell` and your `build_rnn(cell, inputs)` function.\n",
    "- Apply a fully connected layer with a linear activation and `vocab_size` as the number of outputs.\n",
    "\n",
    "Return the logits and final state in the following tuple (Logits, FinalState) "
   ]
  },
  {
   "cell_type": "code",
   "execution_count": 23,
   "metadata": {
    "collapsed": false,
    "deletable": true,
    "editable": true
   },
   "outputs": [
    {
     "name": "stdout",
     "output_type": "stream",
     "text": [
      "Tests Passed\n"
     ]
    }
   ],
   "source": [
    "# batch_size and seq_length should be passed???\n",
    "\n",
    "# # Batch Size\n",
    "# batch_size = 16\n",
    "# # Sequence Length\n",
    "# seq_length = 10\n",
    "\n",
    "# batch_size, seq_length\n",
    "def build_nn(cell, rnn_size, input_data, vocab_size):\n",
    "# def build_nn(cell, rnn_size, input_data, vocab_size, batch_size=None, seq_length=None):\n",
    "    \"\"\"\n",
    "    Build part of the neural network\n",
    "    :param cell: RNN cell\n",
    "    :param rnn_size: Size of rnns\n",
    "    :param input_data: Input data\n",
    "    :param vocab_size: Vocabulary size\n",
    "    :return: Tuple (Logits, FinalState)\n",
    "    \"\"\"\n",
    "    # TODO: Implement Function\n",
    "    \n",
    "#     # batch_size\n",
    "#     if batch_size == None:\n",
    "#         print(\"build_nn: input_data.get_shape():{}\".format(input_data.get_shape()))\n",
    "#         batch_size = input_data.get_shape().as_list()[0]\n",
    "    \n",
    "#     if seq_length == None:\n",
    "#         seq_length = input_data.get_shape().as_list()[1]\n",
    "        \n",
    "    \n",
    "#     try:\n",
    "#         batch_size\n",
    "#     except NameError:\n",
    "#         print(\"batch_size >>>> NameError\")\n",
    "#         batch_size = input_data.get_shape().as_list()[0]\n",
    "#     else:\n",
    "#         # batch_size is defined\n",
    "#         pass\n",
    "#     print(\"batch_size:{}\".format(batch_size))\n",
    "    \n",
    "#     # batch_size\n",
    "#     try:\n",
    "#         seq_length\n",
    "#     except NameError:\n",
    "#         print(\"seq_length >>>> NameError\")\n",
    "#         seq_length = input_data.get_shape().as_list()[1]\n",
    "#     else:\n",
    "#         # seq_length is defined\n",
    "#         pass\n",
    "#     print(\"seq_length:{}\".format(seq_length))\n",
    "    \n",
    "    \n",
    "    \n",
    "    \n",
    "#     aaa = input_data.get_shape().as_list() + [vocab_size]\n",
    "#     print(\"aaa:{}\".format(aaa))\n",
    "    \n",
    "#     print(\"2 input_data:{}\".format(input_data.shape))    \n",
    "#     print(\"2 rnn_size:{}\".format(rnn_size));\n",
    "    \n",
    "    #  get_embed(input_data, vocab_size, embed_dim):\n",
    "    embed_dim = 200\n",
    "    embed = get_embed(input_data, vocab_size, embed_dim )\n",
    "    \n",
    "#     print(\"2 embed:{}\".format(embed.shape))\n",
    "     \n",
    "    # build_rnn(cell, inputs):\n",
    "    Outputs, FinalState = build_rnn(cell, embed)\n",
    "    \n",
    "    # name as attribute?\n",
    "    # FinalState = tf.identity(FinalState, name=\"attribute\")\n",
    "    \n",
    "    # print(Outputs)\n",
    "    \n",
    "#     print(\"2 Outputs:{}\".format(Outputs.shape))\n",
    "#     print(\"2 vocab_size:{}\".format(vocab_size))\n",
    "\n",
    "#     # weights and biases\n",
    "#     # softmax_w = tf.Variable(tf.truncated_normal(( rnn_size, vocab_size), stddev=0.1))\n",
    "    \n",
    "#     # softmax_w = tf.Variable(tf.truncated_normal((input_data.get_shape().as_list()[0], rnn_size, vocab_size), stddev=0.1))\n",
    "#     # softmax_w = tf.Variable(tf.truncated_normal((batch_size, rnn_size, vocab_size), stddev=0.1))\n",
    "#     softmax_w = tf.Variable(tf.truncated_normal(( rnn_size, vocab_size), stddev=0.1))\n",
    "    \n",
    "#     softmax_b = tf.Variable(tf.zeros(vocab_size))\n",
    "    # softmax_b = tf.Variable(tf.truncated_normal((input_data.get_shape().as_list()[0], input_data.get_shape().as_list()[1], vocab_size), stddev=0.1))\n",
    "    # softmax_b = tf.Variable(tf.truncated_normal((batch_size, seq_length, vocab_size), stddev=0.1))\n",
    "    \n",
    "# #     print(Outputs[-1].shape)\n",
    "#     print(\"softmax_w:{}\".format(softmax_w.get_shape()))\n",
    "    \n",
    "#     print(\"--\")\n",
    "#     print(Outputs[-1])\n",
    "#     print(Outputs[:,-1])\n",
    "# #     print(\"--\")\n",
    "    \n",
    "#     # Unfold output from 3d to 2d\n",
    "#     Outputs = tf.reshape(Outputs, [-1, rnn_size])\n",
    "#     print(\"Outputs:{}\".format(Outputs.get_shape()))\n",
    "    \n",
    "#     Logits = tf.matmul(Outputs, softmax_w) + softmax_b\n",
    "    \n",
    "#     print(\"Logits:{}\".format(Logits.get_shape()))\n",
    "#     logits2 = tf.reshape(Logits, input_data.shape.as_list() + [vocab_size])\n",
    "    \n",
    "#     print(input_data.shape.as_list())\n",
    "    \n",
    "#     print(\"logits2:{}\".format(logits2.get_shape()))\n",
    "#     # Logits = tf.matmul(Outputs, softmax_w) + softmax_b\n",
    "#     # Logits = tf.matmul(Outputs[:,-1], softmax_w) + softmax_b\n",
    "#     # Logits = Logits + softmax_b\n",
    "#     # print(Logits.get_shape())\n",
    "    \n",
    "# #     print(\"Logits.shape:{}\".format(Logits.get_shape()))\n",
    "    \n",
    "    \n",
    "    \n",
    "    \n",
    "    #\n",
    "    # SUPER IMPORTANT...\n",
    "    # \n",
    "    # WTF? No need to defines weights and biases!!!\n",
    "    Logits = tf.contrib.layers.fully_connected(Outputs, vocab_size, activation_fn=None)\n",
    "    \n",
    "    \n",
    "    \n",
    "    \n",
    "    return Logits, FinalState\n",
    "    # return Logits, FinalState\n",
    "\n",
    "\n",
    "\n",
    "\"\"\"\n",
    "DON'T MODIFY ANYTHING IN THIS CELL THAT IS BELOW THIS LINE\n",
    "\"\"\"\n",
    "tests.test_build_nn(build_nn)"
   ]
  },
  {
   "cell_type": "markdown",
   "metadata": {
    "deletable": true,
    "editable": true
   },
   "source": [
    "### Batches\n",
    "Implement `get_batches` to create batches of input and targets using `int_text`.  The batches should be a Numpy array with the shape `(number of batches, 2, batch size, sequence length)`. Each batch contains two elements:\n",
    "- The first element is a single batch of **input** with the shape `[batch size, sequence length]`\n",
    "- The second element is a single batch of **targets** with the shape `[batch size, sequence length]`\n",
    "\n",
    "If you can't fill the last batch with enough data, drop the last batch.\n",
    "\n",
    "For exmple, `get_batches([1, 2, 3, 4, 5, 6, 7, 8, 9, 10, 11, 12, 13, 14, 15], 2, 3)` would return a Numpy array of the following:\n",
    "```\n",
    "[\n",
    "  # First Batch\n",
    "  [\n",
    "    # Batch of Input\n",
    "    [[ 1  2  3], [ 7  8  9]],\n",
    "    # Batch of targets\n",
    "    [[ 2  3  4], [ 8  9 10]]\n",
    "  ],\n",
    " \n",
    "  # Second Batch\n",
    "  [\n",
    "    # Batch of Input\n",
    "    [[ 4  5  6], [10 11 12]],\n",
    "    # Batch of targets\n",
    "    [[ 5  6  7], [11 12 13]]\n",
    "  ]\n",
    "]\n",
    "```"
   ]
  },
  {
   "cell_type": "code",
   "execution_count": 24,
   "metadata": {
    "collapsed": false,
    "deletable": true,
    "editable": true
   },
   "outputs": [
    {
     "name": "stdout",
     "output_type": "stream",
     "text": [
      "Tests Passed\n"
     ]
    }
   ],
   "source": [
    "def get_batches(int_text, batch_size, seq_length):\n",
    "    \"\"\"\n",
    "    Return batches of input and target\n",
    "    :param int_text: Text with the words replaced by their ids\n",
    "    :param batch_size: The size of batch\n",
    "    :param seq_length: The length of sequence\n",
    "    :return: Batches as a Numpy array\n",
    "    \"\"\"\n",
    "    # TODO: Implement Function\n",
    "#     print(\"batch_size:{}, seq_length:{}\".format(batch_size, seq_length))\n",
    "#     print(len(int_text))\n",
    "    \n",
    "    batch_count = (len(int_text) - 1 ) // (batch_size*seq_length)\n",
    "    # print(\"batch_count:{}\".format(batch_count))\n",
    "    \n",
    "    list_1 = []\n",
    "    for idx in range(batch_count):\n",
    "        tmp_s = idx * batch_size * seq_length\n",
    "        tmp_e = (idx + 1) * batch_size * seq_length\n",
    "        tmp_1 = int_text[tmp_s:tmp_e]\n",
    "        \n",
    "        \n",
    "\n",
    "        # input\n",
    "        list_2 = []\n",
    "        for jdx in range(batch_size):\n",
    "            \n",
    "            # input\n",
    "            tmp_s_2 = tmp_s + jdx * seq_length\n",
    "            tmp_e_2 = tmp_s + (jdx + 1) * seq_length\n",
    "            # tmp_2 = tmp_1[tmp_s_2:tmp_e_2]\n",
    "            tmp_2 = int_text[tmp_s_2:tmp_e_2]\n",
    "            \n",
    "            list_2.append(tmp_2);\n",
    "            \n",
    "        # target\n",
    "        list_3 = []\n",
    "        for jdx in range(batch_size):\n",
    "            \n",
    "            tmp_s_2 = tmp_s + jdx * seq_length + 1\n",
    "            tmp_e_2 = tmp_s + (jdx + 1) * seq_length + 1\n",
    "            # tmp_2 = tmp_1[tmp_s_2:tmp_e_2]\n",
    "            tmp_2 = int_text[tmp_s_2:tmp_e_2]\n",
    "            # print(\"tmp_s_2:{}, tmp_e_2:{}\".format(tmp_s_2, tmp_e_2))\n",
    "            \n",
    "            list_3.append(tmp_2);\n",
    "        \n",
    "        # apped 1 batch to list \n",
    "        list_1.append([list_2, list_3])\n",
    "        # list_1.append([list_3, list_2])\n",
    "\n",
    "    \n",
    "    np_list_1 = np.array(list_1)\n",
    "    # print(np_list_1.shape)\n",
    "    \n",
    "    return np_list_1\n",
    "\n",
    "\n",
    "\"\"\"\n",
    "DON'T MODIFY ANYTHING IN THIS CELL THAT IS BELOW THIS LINE\n",
    "\"\"\"\n",
    "tests.test_get_batches(get_batches)"
   ]
  },
  {
   "cell_type": "markdown",
   "metadata": {
    "deletable": true,
    "editable": true
   },
   "source": [
    "## Neural Network Training\n",
    "### Hyperparameters\n",
    "Tune the following parameters:\n",
    "\n",
    "- Set `num_epochs` to the number of epochs.\n",
    "- Set `batch_size` to the batch size.\n",
    "- Set `rnn_size` to the size of the RNNs.\n",
    "- Set `seq_length` to the length of sequence.\n",
    "- Set `learning_rate` to the learning rate.\n",
    "- Set `show_every_n_batches` to the number of batches the neural network should print progress."
   ]
  },
  {
   "cell_type": "code",
   "execution_count": 25,
   "metadata": {
    "collapsed": true,
    "deletable": true,
    "editable": true
   },
   "outputs": [],
   "source": [
    "# Number of Epochs\n",
    "num_epochs = 200\n",
    "# Batch Size\n",
    "batch_size = 128\n",
    "# RNN Size\n",
    "rnn_size = 512\n",
    "# Sequence Length\n",
    "seq_length = 12\n",
    "# Learning Rate\n",
    "learning_rate = 0.001\n",
    "# Show stats for every n number of batches\n",
    "show_every_n_batches = 50\n",
    "\n",
    "\"\"\"\n",
    "DON'T MODIFY ANYTHING IN THIS CELL THAT IS BELOW THIS LINE\n",
    "\"\"\"\n",
    "save_dir = './save'"
   ]
  },
  {
   "cell_type": "markdown",
   "metadata": {
    "deletable": true,
    "editable": true
   },
   "source": [
    "### Build the Graph\n",
    "Build the graph using the neural network you implemented."
   ]
  },
  {
   "cell_type": "code",
   "execution_count": 11,
   "metadata": {
    "collapsed": false
   },
   "outputs": [],
   "source": [
    "# # play with batches\n",
    "# print(len(int_text))\n",
    "# tmp_int_text = int_text[:1000]\n",
    "# tmp_batches = get_batches(tmp_int_text, batch_size, seq_length)"
   ]
  },
  {
   "cell_type": "code",
   "execution_count": 12,
   "metadata": {
    "collapsed": false
   },
   "outputs": [],
   "source": [
    "# print(tmp_batches.shape)\n",
    "# print(tmp_batches[0][0][0])\n",
    "# print(tmp_batches[0][1][0])"
   ]
  },
  {
   "cell_type": "code",
   "execution_count": 26,
   "metadata": {
    "collapsed": false,
    "deletable": true,
    "editable": true
   },
   "outputs": [],
   "source": [
    "\"\"\"\n",
    "DON'T MODIFY ANYTHING IN THIS CELL\n",
    "\"\"\"\n",
    "from tensorflow.contrib import seq2seq\n",
    "\n",
    "train_graph = tf.Graph()\n",
    "with train_graph.as_default():\n",
    "    vocab_size = len(int_to_vocab)\n",
    "    input_text, targets, lr = get_inputs()\n",
    "    input_data_shape = tf.shape(input_text)\n",
    "    \n",
    "    # print(\"input_data_shape:{}\".format(input_data_shape))\n",
    "    \n",
    "    cell, initial_state = get_init_cell(input_data_shape[0], rnn_size)\n",
    "    \n",
    "    # print(\"1 input_data:{}\".format(input_text.get_shape()))\n",
    "    # print(\"1 vocab_size:{}\".format(vocab_size))\n",
    "    \n",
    "    logits, final_state = build_nn(cell, rnn_size, input_text, vocab_size)\n",
    "    # logits, final_state = build_nn(cell, rnn_size, input_text, vocab_size, batch_size, seq_length)\n",
    "\n",
    "    # Probabilities for generating words\n",
    "    probs = tf.nn.softmax(logits, name='probs')\n",
    "\n",
    "    # Loss function\n",
    "    cost = seq2seq.sequence_loss(\n",
    "        logits,\n",
    "        targets,\n",
    "        tf.ones([input_data_shape[0], input_data_shape[1]]))\n",
    "\n",
    "    # Optimizer\n",
    "    optimizer = tf.train.AdamOptimizer(lr)\n",
    "\n",
    "    # Gradient Clipping\n",
    "    gradients = optimizer.compute_gradients(cost)\n",
    "    capped_gradients = [(tf.clip_by_value(grad, -1., 1.), var) for grad, var in gradients]\n",
    "    train_op = optimizer.apply_gradients(capped_gradients)"
   ]
  },
  {
   "cell_type": "markdown",
   "metadata": {
    "deletable": true,
    "editable": true
   },
   "source": [
    "## Train\n",
    "Train the neural network on the preprocessed data.  If you have a hard time getting a good loss, check the [forms](https://discussions.udacity.com/) to see if anyone is having the same problem."
   ]
  },
  {
   "cell_type": "code",
   "execution_count": 27,
   "metadata": {
    "collapsed": false,
    "deletable": true,
    "editable": true
   },
   "outputs": [
    {
     "name": "stdout",
     "output_type": "stream",
     "text": [
      "Epoch   0 Batch    0/44   train_loss = 8.823\n",
      "Epoch   1 Batch    6/44   train_loss = 6.087\n",
      "Epoch   2 Batch   12/44   train_loss = 6.123\n",
      "Epoch   3 Batch   18/44   train_loss = 5.901\n",
      "Epoch   4 Batch   24/44   train_loss = 5.981\n",
      "Epoch   5 Batch   30/44   train_loss = 5.733\n",
      "Epoch   6 Batch   36/44   train_loss = 5.675\n",
      "Epoch   7 Batch   42/44   train_loss = 5.511\n",
      "Epoch   9 Batch    4/44   train_loss = 5.040\n",
      "Epoch  10 Batch   10/44   train_loss = 5.092\n",
      "Epoch  11 Batch   16/44   train_loss = 4.632\n",
      "Epoch  12 Batch   22/44   train_loss = 4.945\n",
      "Epoch  13 Batch   28/44   train_loss = 4.734\n",
      "Epoch  14 Batch   34/44   train_loss = 4.650\n",
      "Epoch  15 Batch   40/44   train_loss = 4.611\n",
      "Epoch  17 Batch    2/44   train_loss = 4.475\n",
      "Epoch  18 Batch    8/44   train_loss = 4.273\n",
      "Epoch  19 Batch   14/44   train_loss = 4.177\n",
      "Epoch  20 Batch   20/44   train_loss = 3.979\n",
      "Epoch  21 Batch   26/44   train_loss = 3.995\n",
      "Epoch  22 Batch   32/44   train_loss = 4.030\n",
      "Epoch  23 Batch   38/44   train_loss = 3.899\n",
      "Epoch  25 Batch    0/44   train_loss = 3.661\n",
      "Epoch  26 Batch    6/44   train_loss = 3.640\n",
      "Epoch  27 Batch   12/44   train_loss = 3.570\n",
      "Epoch  28 Batch   18/44   train_loss = 3.497\n",
      "Epoch  29 Batch   24/44   train_loss = 3.380\n",
      "Epoch  30 Batch   30/44   train_loss = 3.307\n",
      "Epoch  31 Batch   36/44   train_loss = 3.088\n",
      "Epoch  32 Batch   42/44   train_loss = 3.212\n",
      "Epoch  34 Batch    4/44   train_loss = 2.933\n",
      "Epoch  35 Batch   10/44   train_loss = 3.081\n",
      "Epoch  36 Batch   16/44   train_loss = 2.799\n",
      "Epoch  37 Batch   22/44   train_loss = 2.943\n",
      "Epoch  38 Batch   28/44   train_loss = 2.714\n",
      "Epoch  39 Batch   34/44   train_loss = 2.690\n",
      "Epoch  40 Batch   40/44   train_loss = 2.386\n",
      "Epoch  42 Batch    2/44   train_loss = 2.296\n",
      "Epoch  43 Batch    8/44   train_loss = 2.262\n",
      "Epoch  44 Batch   14/44   train_loss = 2.206\n",
      "Epoch  45 Batch   20/44   train_loss = 2.175\n",
      "Epoch  46 Batch   26/44   train_loss = 1.972\n",
      "Epoch  47 Batch   32/44   train_loss = 1.962\n",
      "Epoch  48 Batch   38/44   train_loss = 1.888\n",
      "Epoch  50 Batch    0/44   train_loss = 1.818\n",
      "Epoch  51 Batch    6/44   train_loss = 1.729\n",
      "Epoch  52 Batch   12/44   train_loss = 1.594\n",
      "Epoch  53 Batch   18/44   train_loss = 1.521\n",
      "Epoch  54 Batch   24/44   train_loss = 1.311\n",
      "Epoch  55 Batch   30/44   train_loss = 1.418\n",
      "Epoch  56 Batch   36/44   train_loss = 1.168\n",
      "Epoch  57 Batch   42/44   train_loss = 1.376\n",
      "Epoch  59 Batch    4/44   train_loss = 1.270\n",
      "Epoch  60 Batch   10/44   train_loss = 1.213\n",
      "Epoch  61 Batch   16/44   train_loss = 1.061\n",
      "Epoch  62 Batch   22/44   train_loss = 0.945\n",
      "Epoch  63 Batch   28/44   train_loss = 0.845\n",
      "Epoch  64 Batch   34/44   train_loss = 0.895\n",
      "Epoch  65 Batch   40/44   train_loss = 0.758\n",
      "Epoch  67 Batch    2/44   train_loss = 0.757\n",
      "Epoch  68 Batch    8/44   train_loss = 0.749\n",
      "Epoch  69 Batch   14/44   train_loss = 0.698\n",
      "Epoch  70 Batch   20/44   train_loss = 0.693\n",
      "Epoch  71 Batch   26/44   train_loss = 0.612\n",
      "Epoch  72 Batch   32/44   train_loss = 0.655\n",
      "Epoch  73 Batch   38/44   train_loss = 0.641\n",
      "Epoch  75 Batch    0/44   train_loss = 0.582\n",
      "Epoch  76 Batch    6/44   train_loss = 0.598\n",
      "Epoch  77 Batch   12/44   train_loss = 0.571\n",
      "Epoch  78 Batch   18/44   train_loss = 0.516\n",
      "Epoch  79 Batch   24/44   train_loss = 0.439\n",
      "Epoch  80 Batch   30/44   train_loss = 0.491\n",
      "Epoch  81 Batch   36/44   train_loss = 0.417\n",
      "Epoch  82 Batch   42/44   train_loss = 0.492\n",
      "Epoch  84 Batch    4/44   train_loss = 0.471\n",
      "Epoch  85 Batch   10/44   train_loss = 0.430\n",
      "Epoch  86 Batch   16/44   train_loss = 0.371\n",
      "Epoch  87 Batch   22/44   train_loss = 0.343\n",
      "Epoch  88 Batch   28/44   train_loss = 0.344\n",
      "Epoch  89 Batch   34/44   train_loss = 0.380\n",
      "Epoch  90 Batch   40/44   train_loss = 0.338\n",
      "Epoch  92 Batch    2/44   train_loss = 0.361\n",
      "Epoch  93 Batch    8/44   train_loss = 0.346\n",
      "Epoch  94 Batch   14/44   train_loss = 0.348\n",
      "Epoch  95 Batch   20/44   train_loss = 0.345\n",
      "Epoch  96 Batch   26/44   train_loss = 0.354\n",
      "Epoch  97 Batch   32/44   train_loss = 0.363\n",
      "Epoch  98 Batch   38/44   train_loss = 0.356\n",
      "Epoch 100 Batch    0/44   train_loss = 0.326\n",
      "Epoch 101 Batch    6/44   train_loss = 0.372\n",
      "Epoch 102 Batch   12/44   train_loss = 0.364\n",
      "Epoch 103 Batch   18/44   train_loss = 0.331\n",
      "Epoch 104 Batch   24/44   train_loss = 0.308\n",
      "Epoch 105 Batch   30/44   train_loss = 0.334\n",
      "Epoch 106 Batch   36/44   train_loss = 0.312\n",
      "Epoch 107 Batch   42/44   train_loss = 0.341\n",
      "Epoch 109 Batch    4/44   train_loss = 0.342\n",
      "Epoch 110 Batch   10/44   train_loss = 0.318\n",
      "Epoch 111 Batch   16/44   train_loss = 0.297\n",
      "Epoch 112 Batch   22/44   train_loss = 0.287\n",
      "Epoch 113 Batch   28/44   train_loss = 0.300\n",
      "Epoch 114 Batch   34/44   train_loss = 0.321\n",
      "Epoch 115 Batch   40/44   train_loss = 0.287\n",
      "Epoch 117 Batch    2/44   train_loss = 0.312\n",
      "Epoch 118 Batch    8/44   train_loss = 0.304\n",
      "Epoch 119 Batch   14/44   train_loss = 0.315\n",
      "Epoch 120 Batch   20/44   train_loss = 0.304\n",
      "Epoch 121 Batch   26/44   train_loss = 0.326\n",
      "Epoch 122 Batch   32/44   train_loss = 0.326\n",
      "Epoch 123 Batch   38/44   train_loss = 0.327\n",
      "Epoch 125 Batch    0/44   train_loss = 0.301\n",
      "Epoch 126 Batch    6/44   train_loss = 0.339\n",
      "Epoch 127 Batch   12/44   train_loss = 0.344\n",
      "Epoch 128 Batch   18/44   train_loss = 0.307\n",
      "Epoch 129 Batch   24/44   train_loss = 0.282\n",
      "Epoch 130 Batch   30/44   train_loss = 0.306\n",
      "Epoch 131 Batch   36/44   train_loss = 0.295\n",
      "Epoch 132 Batch   42/44   train_loss = 0.325\n",
      "Epoch 134 Batch    4/44   train_loss = 0.320\n",
      "Epoch 135 Batch   10/44   train_loss = 0.296\n",
      "Epoch 136 Batch   16/44   train_loss = 0.277\n",
      "Epoch 137 Batch   22/44   train_loss = 0.274\n",
      "Epoch 138 Batch   28/44   train_loss = 0.282\n",
      "Epoch 139 Batch   34/44   train_loss = 0.308\n",
      "Epoch 140 Batch   40/44   train_loss = 0.272\n",
      "Epoch 142 Batch    2/44   train_loss = 0.301\n",
      "Epoch 143 Batch    8/44   train_loss = 0.296\n",
      "Epoch 144 Batch   14/44   train_loss = 0.302\n",
      "Epoch 145 Batch   20/44   train_loss = 0.288\n",
      "Epoch 146 Batch   26/44   train_loss = 0.314\n",
      "Epoch 147 Batch   32/44   train_loss = 0.317\n",
      "Epoch 148 Batch   38/44   train_loss = 0.317\n",
      "Epoch 150 Batch    0/44   train_loss = 0.293\n",
      "Epoch 151 Batch    6/44   train_loss = 0.330\n",
      "Epoch 152 Batch   12/44   train_loss = 0.337\n",
      "Epoch 153 Batch   18/44   train_loss = 0.301\n",
      "Epoch 154 Batch   24/44   train_loss = 0.280\n",
      "Epoch 155 Batch   30/44   train_loss = 0.390\n",
      "Epoch 156 Batch   36/44   train_loss = 0.593\n",
      "Epoch 157 Batch   42/44   train_loss = 0.460\n",
      "Epoch 159 Batch    4/44   train_loss = 0.358\n",
      "Epoch 160 Batch   10/44   train_loss = 0.305\n",
      "Epoch 161 Batch   16/44   train_loss = 0.279\n",
      "Epoch 162 Batch   22/44   train_loss = 0.274\n",
      "Epoch 163 Batch   28/44   train_loss = 0.280\n",
      "Epoch 164 Batch   34/44   train_loss = 0.305\n",
      "Epoch 165 Batch   40/44   train_loss = 0.270\n",
      "Epoch 167 Batch    2/44   train_loss = 0.299\n",
      "Epoch 168 Batch    8/44   train_loss = 0.292\n",
      "Epoch 169 Batch   14/44   train_loss = 0.298\n",
      "Epoch 170 Batch   20/44   train_loss = 0.283\n",
      "Epoch 171 Batch   26/44   train_loss = 0.311\n",
      "Epoch 172 Batch   32/44   train_loss = 0.313\n",
      "Epoch 173 Batch   38/44   train_loss = 0.315\n",
      "Epoch 175 Batch    0/44   train_loss = 0.289\n",
      "Epoch 176 Batch    6/44   train_loss = 0.325\n",
      "Epoch 177 Batch   12/44   train_loss = 0.333\n",
      "Epoch 178 Batch   18/44   train_loss = 0.297\n",
      "Epoch 179 Batch   24/44   train_loss = 0.274\n",
      "Epoch 180 Batch   30/44   train_loss = 0.295\n",
      "Epoch 181 Batch   36/44   train_loss = 0.287\n",
      "Epoch 182 Batch   42/44   train_loss = 0.316\n",
      "Epoch 184 Batch    4/44   train_loss = 0.312\n",
      "Epoch 185 Batch   10/44   train_loss = 0.287\n",
      "Epoch 186 Batch   16/44   train_loss = 0.269\n",
      "Epoch 187 Batch   22/44   train_loss = 0.267\n",
      "Epoch 188 Batch   28/44   train_loss = 0.274\n",
      "Epoch 189 Batch   34/44   train_loss = 0.300\n",
      "Epoch 190 Batch   40/44   train_loss = 0.265\n",
      "Epoch 192 Batch    2/44   train_loss = 0.295\n",
      "Epoch 193 Batch    8/44   train_loss = 0.287\n",
      "Epoch 194 Batch   14/44   train_loss = 0.296\n",
      "Epoch 195 Batch   20/44   train_loss = 0.281\n",
      "Epoch 196 Batch   26/44   train_loss = 0.308\n",
      "Epoch 197 Batch   32/44   train_loss = 0.311\n",
      "Epoch 198 Batch   38/44   train_loss = 0.312\n",
      "Model Trained and Saved\n"
     ]
    }
   ],
   "source": [
    "\"\"\"\n",
    "DON'T MODIFY ANYTHING IN THIS CELL\n",
    "\"\"\"\n",
    "batches = get_batches(int_text, batch_size, seq_length)\n",
    "\n",
    "with tf.Session(graph=train_graph) as sess:\n",
    "    sess.run(tf.global_variables_initializer())\n",
    "\n",
    "    for epoch_i in range(num_epochs):\n",
    "        state = sess.run(initial_state, {input_text: batches[0][0]})\n",
    "\n",
    "        for batch_i, (x, y) in enumerate(batches):\n",
    "            feed = {\n",
    "                input_text: x,\n",
    "                targets: y,\n",
    "                initial_state: state,\n",
    "                lr: learning_rate}\n",
    "            train_loss, state, _ = sess.run([cost, final_state, train_op], feed)\n",
    "\n",
    "            # Show every <show_every_n_batches> batches\n",
    "            if (epoch_i * len(batches) + batch_i) % show_every_n_batches == 0:\n",
    "                print('Epoch {:>3} Batch {:>4}/{}   train_loss = {:.3f}'.format(\n",
    "                    epoch_i,\n",
    "                    batch_i,\n",
    "                    len(batches),\n",
    "                    train_loss))\n",
    "\n",
    "    # Save Model\n",
    "    saver = tf.train.Saver()\n",
    "    saver.save(sess, save_dir)\n",
    "    print('Model Trained and Saved')"
   ]
  },
  {
   "cell_type": "markdown",
   "metadata": {
    "deletable": true,
    "editable": true
   },
   "source": [
    "## Save Parameters\n",
    "Save `seq_length` and `save_dir` for generating a new TV script."
   ]
  },
  {
   "cell_type": "code",
   "execution_count": 28,
   "metadata": {
    "collapsed": false,
    "deletable": true,
    "editable": true
   },
   "outputs": [],
   "source": [
    "\"\"\"\n",
    "DON'T MODIFY ANYTHING IN THIS CELL\n",
    "\"\"\"\n",
    "# Save parameters for checkpoint\n",
    "helper.save_params((seq_length, save_dir))"
   ]
  },
  {
   "cell_type": "markdown",
   "metadata": {
    "deletable": true,
    "editable": true
   },
   "source": [
    "# Checkpoint"
   ]
  },
  {
   "cell_type": "code",
   "execution_count": 29,
   "metadata": {
    "collapsed": false,
    "deletable": true,
    "editable": true
   },
   "outputs": [],
   "source": [
    "\"\"\"\n",
    "DON'T MODIFY ANYTHING IN THIS CELL\n",
    "\"\"\"\n",
    "import tensorflow as tf\n",
    "import numpy as np\n",
    "import helper\n",
    "import problem_unittests as tests\n",
    "\n",
    "_, vocab_to_int, int_to_vocab, token_dict = helper.load_preprocess()\n",
    "seq_length, load_dir = helper.load_params()"
   ]
  },
  {
   "cell_type": "markdown",
   "metadata": {
    "deletable": true,
    "editable": true
   },
   "source": [
    "## Implement Generate Functions\n",
    "### Get Tensors\n",
    "Get tensors from `loaded_graph` using the function [`get_tensor_by_name()`](https://www.tensorflow.org/api_docs/python/tf/Graph#get_tensor_by_name).  Get the tensors using the following names:\n",
    "- \"input:0\"\n",
    "- \"initial_state:0\"\n",
    "- \"final_state:0\"\n",
    "- \"probs:0\"\n",
    "\n",
    "Return the tensors in the following tuple `(InputTensor, InitialStateTensor, FinalStateTensor, ProbsTensor)` "
   ]
  },
  {
   "cell_type": "code",
   "execution_count": 30,
   "metadata": {
    "collapsed": false,
    "deletable": true,
    "editable": true
   },
   "outputs": [
    {
     "name": "stdout",
     "output_type": "stream",
     "text": [
      "Tests Passed\n"
     ]
    }
   ],
   "source": [
    "def get_tensors(loaded_graph):\n",
    "    \"\"\"\n",
    "    Get input, initial state, final state, and probabilities tensor from <loaded_graph>\n",
    "    :param loaded_graph: TensorFlow graph loaded from file\n",
    "    :return: Tuple (InputTensor, InitialStateTensor, FinalStateTensor, ProbsTensor)\n",
    "    \"\"\"\n",
    "    # TODO: Implement Function\n",
    "    InputTensor = loaded_graph.get_tensor_by_name(\"input:0\")\n",
    "    InitialStateTensor = loaded_graph.get_tensor_by_name(\"initial_state:0\")\n",
    "    FinalStateTensor = loaded_graph.get_tensor_by_name(\"final_state:0\")\n",
    "    ProbsTensor = loaded_graph.get_tensor_by_name(\"probs:0\")\n",
    "    return InputTensor, InitialStateTensor, FinalStateTensor, ProbsTensor\n",
    "\n",
    "\n",
    "\"\"\"\n",
    "DON'T MODIFY ANYTHING IN THIS CELL THAT IS BELOW THIS LINE\n",
    "\"\"\"\n",
    "tests.test_get_tensors(get_tensors)"
   ]
  },
  {
   "cell_type": "markdown",
   "metadata": {
    "deletable": true,
    "editable": true
   },
   "source": [
    "### Choose Word\n",
    "Implement the `pick_word()` function to select the next word using `probabilities`."
   ]
  },
  {
   "cell_type": "code",
   "execution_count": 31,
   "metadata": {
    "collapsed": false,
    "deletable": true,
    "editable": true
   },
   "outputs": [
    {
     "name": "stdout",
     "output_type": "stream",
     "text": [
      "Tests Passed\n"
     ]
    }
   ],
   "source": [
    "def pick_word(probabilities, int_to_vocab):\n",
    "    \"\"\"\n",
    "    Pick the next word in the generated text\n",
    "    :param probabilities: Probabilites of the next word\n",
    "    :param int_to_vocab: Dictionary of word ids as the keys and words as the values\n",
    "    :return: String of the predicted word\n",
    "    \"\"\"\n",
    "    # TODO: Implement Function\n",
    "    \n",
    "#     print(probabilities)\n",
    "#     print(int_to_vocab)\n",
    "#     print(\"probabilities argmax: {}\".format(np.argmax(probabilities)))\n",
    "#     print(np.argmax(probabilities))\n",
    "    \n",
    "    return int_to_vocab[np.argmax(probabilities)]\n",
    "\n",
    "\n",
    "\"\"\"\n",
    "DON'T MODIFY ANYTHING IN THIS CELL THAT IS BELOW THIS LINE\n",
    "\"\"\"\n",
    "tests.test_pick_word(pick_word)"
   ]
  },
  {
   "cell_type": "markdown",
   "metadata": {
    "deletable": true,
    "editable": true
   },
   "source": [
    "## Generate TV Script\n",
    "This will generate the TV script for you.  Set `gen_length` to the length of TV script you want to generate."
   ]
  },
  {
   "cell_type": "code",
   "execution_count": 32,
   "metadata": {
    "collapsed": false,
    "deletable": true,
    "editable": true
   },
   "outputs": [
    {
     "name": "stdout",
     "output_type": "stream",
     "text": [
      "moe_szyslak:(lying) oh, it is. it is. just be good.\n",
      "barney_gumble: ow.\n",
      "lisa_simpson: we're him?\n",
      "moe_szyslak: ah, there it really?\n",
      "homer_simpson:(looking at watch) huh?\n",
      "moe_szyslak:(displeased chuckle) nobody like you up later than!\n",
      "moe_szyslak: just you guys are that?\n",
      "moe_szyslak: uh... what do you invite? you had a new life?\n",
      "homer_simpson: seymour... homer, i need a name now, i'm gonna care to me, i'm not like to the new dude... nah, and the feeling is that, lenny, i've got a domestic situation?\n",
      "carl_carlson:(sings) okay.\n",
      "marge_simpson:(sings) sweet adeleine.\n",
      "apu_nahasapeemapetilon:(sings) i believe a had to hide.\n",
      "\n",
      "\n",
      "moe_szyslak: eh, this is not you. no more delays off the keys.\n",
      "moe_szyslak: nah, you can't donate. i've got a match and gentlemen, you don't got any better--(worried) yeah.\n",
      "marge_simpson: i'm not\n"
     ]
    }
   ],
   "source": [
    "gen_length = 200\n",
    "# homer_simpson, moe_szyslak, or Barney_Gumble\n",
    "prime_word = 'moe_szyslak'\n",
    "\n",
    "\"\"\"\n",
    "DON'T MODIFY ANYTHING IN THIS CELL THAT IS BELOW THIS LINE\n",
    "\"\"\"\n",
    "loaded_graph = tf.Graph()\n",
    "with tf.Session(graph=loaded_graph) as sess:\n",
    "    # Load saved model\n",
    "    loader = tf.train.import_meta_graph(load_dir + '.meta')\n",
    "    loader.restore(sess, load_dir)\n",
    "\n",
    "    # Get Tensors from loaded model\n",
    "    input_text, initial_state, final_state, probs = get_tensors(loaded_graph)\n",
    "\n",
    "    # Sentences generation setup\n",
    "    gen_sentences = [prime_word + ':']\n",
    "    prev_state = sess.run(initial_state, {input_text: np.array([[1]])})\n",
    "\n",
    "    # Generate sentences\n",
    "    for n in range(gen_length):\n",
    "        # Dynamic Input\n",
    "        dyn_input = [[vocab_to_int[word] for word in gen_sentences[-seq_length:]]]\n",
    "        dyn_seq_length = len(dyn_input[0])\n",
    "\n",
    "        # Get Prediction\n",
    "        probabilities, prev_state = sess.run(\n",
    "            [probs, final_state],\n",
    "            {input_text: dyn_input, initial_state: prev_state})\n",
    "        \n",
    "        pred_word = pick_word(probabilities[dyn_seq_length-1], int_to_vocab)\n",
    "        # print(\"probabilities[dyn_seq_length-1]:{}\".format(probabilities[dyn_seq_length-1]))\n",
    "        gen_sentences.append(pred_word)\n",
    "    \n",
    "    # Remove tokens\n",
    "    tv_script = ' '.join(gen_sentences)\n",
    "    for key, token in token_dict.items():\n",
    "        ending = ' ' if key in ['\\n', '(', '\"'] else ''\n",
    "        tv_script = tv_script.replace(' ' + token.lower(), key)\n",
    "    tv_script = tv_script.replace('\\n ', '\\n')\n",
    "    tv_script = tv_script.replace('( ', '(')\n",
    "        \n",
    "    print(tv_script)"
   ]
  },
  {
   "cell_type": "code",
   "execution_count": 33,
   "metadata": {
    "collapsed": false
   },
   "outputs": [
    {
     "data": {
      "text/plain": [
       "'moe_szyslak:'"
      ]
     },
     "execution_count": 33,
     "metadata": {},
     "output_type": "execute_result"
    }
   ],
   "source": [
    "int_to_vocab[3040]"
   ]
  },
  {
   "cell_type": "markdown",
   "metadata": {
    "deletable": true,
    "editable": true
   },
   "source": [
    "# The TV Script is Nonsensical\n",
    "It's ok if the TV script doesn't make any sense.  We trained on less than a megabyte of text.  In order to get good results, you'll have to use a smaller vocabulary or get more data.  Luckly there's more data!  As we mentioned in the begging of this project, this is a subset of [another dataset](https://www.kaggle.com/wcukierski/the-simpsons-by-the-data).  We didn't have you train on all the data, because that would take too long.  However, you are free to train your neural network on all the data.  After you complete the project, of course.\n",
    "# Submitting This Project\n",
    "When submitting this project, make sure to run all the cells before saving the notebook. Save the notebook file as \"dlnd_tv_script_generation.ipynb\" and save it as a HTML file under \"File\" -> \"Download as\". Include the \"helper.py\" and \"problem_unittests.py\" files in your submission."
   ]
  }
 ],
 "metadata": {
  "kernelspec": {
   "display_name": "Python 3",
   "language": "python",
   "name": "python3"
  },
  "language_info": {
   "codemirror_mode": {
    "name": "ipython",
    "version": 3
   },
   "file_extension": ".py",
   "mimetype": "text/x-python",
   "name": "python",
   "nbconvert_exporter": "python",
   "pygments_lexer": "ipython3",
   "version": "3.5.2"
  },
  "widgets": {
   "state": {},
   "version": "1.1.2"
  }
 },
 "nbformat": 4,
 "nbformat_minor": 0
}
